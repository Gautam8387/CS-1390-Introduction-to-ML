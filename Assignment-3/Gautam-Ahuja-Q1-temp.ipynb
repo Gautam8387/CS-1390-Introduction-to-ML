{
 "cells": [
  {
   "cell_type": "code",
   "execution_count": null,
   "metadata": {},
   "outputs": [],
   "source": [
    "# from eigenpy import quaternion\n",
    "from sklearn.datasets import make_classification\n",
    "import numpy as np\n",
    "import eigenpy\n",
    "import time"
   ]
  },
  {
   "cell_type": "code",
   "execution_count": null,
   "metadata": {},
   "outputs": [],
   "source": [
    "# Generate random datasets with (m, n ) = [(100,100), (1000,1000), (10000, 10000), (10000,50000), (50000,50000)]\n",
    "dataset = []\n",
    "np.random.seed(42)\n",
    "m = [100, 1000, 10000, 10000, 50000]\n",
    "n = [100, 1000, 10000, 50000, 50000]\n",
    "for i in range(len(m)):\n",
    "    dataset.append(np.random.rand(m[i], n[i]))\n",
    "    print(\"Dataset shape: \", dataset[i].shape)"
   ]
  },
  {
   "cell_type": "code",
   "execution_count": null,
   "metadata": {},
   "outputs": [],
   "source": [
    "# Perform PCA with number of components = 0.1*n\n",
    "n_components = [int(0.1 * n[i]) for i in range(len(n))]"
   ]
  },
  {
   "attachments": {},
   "cell_type": "markdown",
   "metadata": {},
   "source": [
    "# PCA"
   ]
  },
  {
   "cell_type": "code",
   "execution_count": null,
   "metadata": {},
   "outputs": [],
   "source": [
    "def pca(dataset, n):    \n",
    "    dataset = (dataset - np.mean(dataset, axis=0))\n",
    "    cov = np.cov(dataset.T)\n",
    "    \n",
    "    e_val = eigenpy.EigenSolver(cov).eigenvalues()\n",
    "    e_vec = eigenpy.EigenSolver(cov).eigenvectors()\n",
    "    \n",
    "    # Sort the eigenvalues in descending order\n",
    "    index = np.arange(0,len(e_val), 1)\n",
    "    index = ([x for _,x in sorted(zip(e_val, index))])[::-1]\n",
    "\n",
    "    # Sort the eigenvectors according to the sorted eigenvalues\n",
    "    e_val = e_val[index]\n",
    "    e_vec = e_vec[:, index]\n",
    "    \n",
    "    # Compute the projection matrix\n",
    "    proj_mat = e_vec[:, :n]\n",
    "\n",
    "    dataset = np.dot(dataset, proj_mat)\n",
    "    return dataset\n"
   ]
  },
  {
   "cell_type": "code",
   "execution_count": null,
   "metadata": {},
   "outputs": [],
   "source": [
    "start_time = time.time()\n",
    "for i in range(len(dataset)):\n",
    "    curr_time = time.time()\n",
    "    reduced_dataset =  pca(dataset[i], n_components[i])\n",
    "    print(\"Reduced shape: \", reduced_dataset.shape)\n",
    "    print(\"Time taken: \", time.time() - curr_time)"
   ]
  },
  {
   "attachments": {},
   "cell_type": "markdown",
   "metadata": {},
   "source": [
    "# PCA Using Sklearn"
   ]
  },
  {
   "cell_type": "code",
   "execution_count": null,
   "metadata": {},
   "outputs": [],
   "source": [
    "from sklearn.decomposition import PCA\n",
    "import time"
   ]
  },
  {
   "cell_type": "code",
   "execution_count": null,
   "metadata": {},
   "outputs": [],
   "source": [
    "start_time = time.time()\n",
    "for i in range(len(dataset)):\n",
    "    curr_time = time.time()\n",
    "    pca = PCA(n_components=n_components[i])\n",
    "    reduced_dataset = pca.fit_transform(dataset[i])\n",
    "    print(\"Reduced shape: \", reduced_dataset[i].shape)\n",
    "    print(\"Time taken: \", time.time() - curr_time)"
   ]
  },
  {
   "attachments": {},
   "cell_type": "markdown",
   "metadata": {},
   "source": [
    "### Using eigenpy\n",
    "1. (100, 100) dataset: 0.02109 seconds\n",
    "2. 1000 x 1000 dataset: 9.45633 seconds\n",
    "\n",
    "### Using sklearn\n",
    "Time taken for:\n",
    "1. 100 x 100 dataset: 0.0076383 seconds\n",
    "2. 1000 x 1000 dataset: 3.457732 seconds"
   ]
  },
  {
   "attachments": {},
   "cell_type": "markdown",
   "metadata": {},
   "source": [
    "I do not have resources to do generate data and do PCA on rest datasets"
   ]
  }
 ],
 "metadata": {
  "kernelspec": {
   "display_name": "Python 3",
   "language": "python",
   "name": "python3"
  },
  "language_info": {
   "codemirror_mode": {
    "name": "ipython",
    "version": 3
   },
   "file_extension": ".py",
   "mimetype": "text/x-python",
   "name": "python",
   "nbconvert_exporter": "python",
   "pygments_lexer": "ipython3",
   "version": "3.9.8"
  },
  "orig_nbformat": 4
 },
 "nbformat": 4,
 "nbformat_minor": 2
}
