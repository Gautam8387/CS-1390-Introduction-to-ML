{
 "cells": [
  {
   "attachments": {},
   "cell_type": "markdown",
   "metadata": {},
   "source": [
    "```\n",
    "Gautam Ahuja\n",
    "Introduction to Machine Learning\n",
    "Raghavendra Singh\n",
    "Assignment 3 Code & Report\n",
    "Implement Clustering\n",
    "```"
   ]
  },
  {
   "cell_type": "code",
   "execution_count": 1,
   "metadata": {},
   "outputs": [],
   "source": [
    "from sklearn.metrics.cluster import contingency_matrix\n",
    "from sklearn.datasets import fetch_openml\n",
    "import matplotlib.pyplot as plt\n",
    "import numpy as np"
   ]
  },
  {
   "cell_type": "code",
   "execution_count": 2,
   "metadata": {},
   "outputs": [],
   "source": [
    "# Load the MNIST dataset\n",
    "mnist = fetch_openml('mnist_784', parser='pandas')"
   ]
  },
  {
   "cell_type": "code",
   "execution_count": 3,
   "metadata": {},
   "outputs": [],
   "source": [
    "# Convert data and target to numpy arrays\n",
    "X = np.array(mnist.data)\n",
    "y = np.array(mnist.target)"
   ]
  },
  {
   "cell_type": "code",
   "execution_count": 4,
   "metadata": {},
   "outputs": [],
   "source": [
    "# Define the number of samples to select from each class.\n",
    "# Our total samples needs to be 30,000 so we select 3000 from each class to ensure its balanced in terms of classes\n",
    "samples_per_class = 3000\n",
    "# Select samples from each class\n",
    "selected_indices = []\n",
    "for class_label in np.unique(y):\n",
    "    class_indices = np.where(y == class_label)[0]\n",
    "    np.random.shuffle(class_indices)\n",
    "    selected_indices.extend(class_indices[:samples_per_class])\n",
    "\n",
    "# Extract the selected samples\n",
    "X_selected = X[selected_indices]\n",
    "y_selected = y[selected_indices]\n",
    "\n",
    "# Shuffle the selected samples\n",
    "shuffle_indices = np.arange(len(X_selected))\n",
    "np.random.shuffle(shuffle_indices)\n",
    "X_selected = X_selected[shuffle_indices]\n",
    "y_selected = y_selected[shuffle_indices]"
   ]
  },
  {
   "attachments": {},
   "cell_type": "markdown",
   "metadata": {},
   "source": [
    "To calculate the purity of clustering results using the class labels y, we can use the following formula:\n",
    "\n",
    "```purity = (1/n) * sum(max(count(c, l)))```\n",
    "\n",
    "where ```n``` is the total number of data points, ```c``` is a cluster, ```l``` is a class label, and ```count(c, l)``` is the number of data points in cluster ```c``` that belong to class ```l```. The purity score ranges from ```0``` to ```1```, where ```1``` indicates that all data points in each cluster belong to the same class.\n",
    "\n",
    "Here's an example code that uses ```sklearn.cluster.KMeans```, ```sklearn.cluster.DBSCAN```, and ```sklearn.cluster.MeanShift``` to cluster the ```MNIST``` dataset and calculate the purity of the clustering results using the class labels:\n"
   ]
  },
  {
   "attachments": {},
   "cell_type": "markdown",
   "metadata": {},
   "source": [
    "The Gini Index is a measure for the impurity of a clustering result. It is defined as follows:\n",
    "\n",
    "```gini = 1 - sum(p_i^2)```\n",
    "\n",
    "where ```p_i``` is the fraction of data points in cluster ```i```. The Gini Index ranges from ```0``` to ```1```, where ```0``` indicates that all data points in each cluster belong to the same class."
   ]
  },
  {
   "cell_type": "code",
   "execution_count": 5,
   "metadata": {},
   "outputs": [],
   "source": [
    "# Calculate the gini index\n",
    "def gini_index(cm):\n",
    "    # Calculate the sum of squares\n",
    "    sum_squares = np.sum(cm ** 2)\n",
    "    # Calculate the sum of rows\n",
    "    sum_rows = np.sum(cm, axis=1)\n",
    "    # Calculate the sum of columns\n",
    "    sum_cols = np.sum(cm, axis=0)\n",
    "    # Calculate the sum of squares of rows\n",
    "    sum_squares_rows = np.sum(sum_rows ** 2)\n",
    "    # Calculate the sum of squares of columns\n",
    "    sum_squares_cols = np.sum(sum_cols ** 2)\n",
    "    # Calculate the gini index\n",
    "    gini = (sum_squares / sum_squares_rows) - (sum_squares / sum_squares_cols)\n",
    "    return gini"
   ]
  },
  {
   "attachments": {},
   "cell_type": "markdown",
   "metadata": {},
   "source": [
    "# K-Means Clustering"
   ]
  },
  {
   "cell_type": "code",
   "execution_count": 19,
   "metadata": {},
   "outputs": [
    {
     "data": {
      "text/html": [
       "<style>#sk-container-id-5 {color: black;background-color: white;}#sk-container-id-5 pre{padding: 0;}#sk-container-id-5 div.sk-toggleable {background-color: white;}#sk-container-id-5 label.sk-toggleable__label {cursor: pointer;display: block;width: 100%;margin-bottom: 0;padding: 0.3em;box-sizing: border-box;text-align: center;}#sk-container-id-5 label.sk-toggleable__label-arrow:before {content: \"▸\";float: left;margin-right: 0.25em;color: #696969;}#sk-container-id-5 label.sk-toggleable__label-arrow:hover:before {color: black;}#sk-container-id-5 div.sk-estimator:hover label.sk-toggleable__label-arrow:before {color: black;}#sk-container-id-5 div.sk-toggleable__content {max-height: 0;max-width: 0;overflow: hidden;text-align: left;background-color: #f0f8ff;}#sk-container-id-5 div.sk-toggleable__content pre {margin: 0.2em;color: black;border-radius: 0.25em;background-color: #f0f8ff;}#sk-container-id-5 input.sk-toggleable__control:checked~div.sk-toggleable__content {max-height: 200px;max-width: 100%;overflow: auto;}#sk-container-id-5 input.sk-toggleable__control:checked~label.sk-toggleable__label-arrow:before {content: \"▾\";}#sk-container-id-5 div.sk-estimator input.sk-toggleable__control:checked~label.sk-toggleable__label {background-color: #d4ebff;}#sk-container-id-5 div.sk-label input.sk-toggleable__control:checked~label.sk-toggleable__label {background-color: #d4ebff;}#sk-container-id-5 input.sk-hidden--visually {border: 0;clip: rect(1px 1px 1px 1px);clip: rect(1px, 1px, 1px, 1px);height: 1px;margin: -1px;overflow: hidden;padding: 0;position: absolute;width: 1px;}#sk-container-id-5 div.sk-estimator {font-family: monospace;background-color: #f0f8ff;border: 1px dotted black;border-radius: 0.25em;box-sizing: border-box;margin-bottom: 0.5em;}#sk-container-id-5 div.sk-estimator:hover {background-color: #d4ebff;}#sk-container-id-5 div.sk-parallel-item::after {content: \"\";width: 100%;border-bottom: 1px solid gray;flex-grow: 1;}#sk-container-id-5 div.sk-label:hover label.sk-toggleable__label {background-color: #d4ebff;}#sk-container-id-5 div.sk-serial::before {content: \"\";position: absolute;border-left: 1px solid gray;box-sizing: border-box;top: 0;bottom: 0;left: 50%;z-index: 0;}#sk-container-id-5 div.sk-serial {display: flex;flex-direction: column;align-items: center;background-color: white;padding-right: 0.2em;padding-left: 0.2em;position: relative;}#sk-container-id-5 div.sk-item {position: relative;z-index: 1;}#sk-container-id-5 div.sk-parallel {display: flex;align-items: stretch;justify-content: center;background-color: white;position: relative;}#sk-container-id-5 div.sk-item::before, #sk-container-id-5 div.sk-parallel-item::before {content: \"\";position: absolute;border-left: 1px solid gray;box-sizing: border-box;top: 0;bottom: 0;left: 50%;z-index: -1;}#sk-container-id-5 div.sk-parallel-item {display: flex;flex-direction: column;z-index: 1;position: relative;background-color: white;}#sk-container-id-5 div.sk-parallel-item:first-child::after {align-self: flex-end;width: 50%;}#sk-container-id-5 div.sk-parallel-item:last-child::after {align-self: flex-start;width: 50%;}#sk-container-id-5 div.sk-parallel-item:only-child::after {width: 0;}#sk-container-id-5 div.sk-dashed-wrapped {border: 1px dashed gray;margin: 0 0.4em 0.5em 0.4em;box-sizing: border-box;padding-bottom: 0.4em;background-color: white;}#sk-container-id-5 div.sk-label label {font-family: monospace;font-weight: bold;display: inline-block;line-height: 1.2em;}#sk-container-id-5 div.sk-label-container {text-align: center;}#sk-container-id-5 div.sk-container {/* jupyter's `normalize.less` sets `[hidden] { display: none; }` but bootstrap.min.css set `[hidden] { display: none !important; }` so we also need the `!important` here to be able to override the default hidden behavior on the sphinx rendered scikit-learn.org. See: https://github.com/scikit-learn/scikit-learn/issues/21755 */display: inline-block !important;position: relative;}#sk-container-id-5 div.sk-text-repr-fallback {display: none;}</style><div id=\"sk-container-id-5\" class=\"sk-top-container\"><div class=\"sk-text-repr-fallback\"><pre>KMeans(n_init=&#x27;auto&#x27;)</pre><b>In a Jupyter environment, please rerun this cell to show the HTML representation or trust the notebook. <br />On GitHub, the HTML representation is unable to render, please try loading this page with nbviewer.org.</b></div><div class=\"sk-container\" hidden><div class=\"sk-item\"><div class=\"sk-estimator sk-toggleable\"><input class=\"sk-toggleable__control sk-hidden--visually\" id=\"sk-estimator-id-5\" type=\"checkbox\" checked><label for=\"sk-estimator-id-5\" class=\"sk-toggleable__label sk-toggleable__label-arrow\">KMeans</label><div class=\"sk-toggleable__content\"><pre>KMeans(n_init=&#x27;auto&#x27;)</pre></div></div></div></div></div>"
      ],
      "text/plain": [
       "KMeans(n_init='auto')"
      ]
     },
     "execution_count": 19,
     "metadata": {},
     "output_type": "execute_result"
    }
   ],
   "source": [
    "from sklearn.cluster import KMeans\n",
    "\n",
    "# Run KMeans on the selected samples\n",
    "kmeans = KMeans(n_init='auto')\n",
    "kmeans.fit(X_selected)"
   ]
  },
  {
   "cell_type": "code",
   "execution_count": 20,
   "metadata": {},
   "outputs": [
    {
     "name": "stdout",
     "output_type": "stream",
     "text": [
      "Cluster Labels: \n",
      " [7 6 3 ... 0 5 3]\n",
      "Cluster Labels Shape: \n",
      " (30000,)\n"
     ]
    }
   ],
   "source": [
    "# Print the cluster centers and cluster labels\n",
    "print(\"Cluster Labels: \\n\", kmeans.labels_)\n",
    "print(\"Cluster Labels Shape: \\n\", kmeans.labels_.shape)"
   ]
  },
  {
   "cell_type": "code",
   "execution_count": 21,
   "metadata": {},
   "outputs": [
    {
     "name": "stdout",
     "output_type": "stream",
     "text": [
      "KMeans purity: 0.566\n"
     ]
    }
   ],
   "source": [
    "# Calculate the contingency matrix\n",
    "cm = contingency_matrix(y_selected, kmeans.labels_)\n",
    "# Calculate the purity\n",
    "purity = np.sum(np.amax(cm, axis=0)) / np.sum(cm)\n",
    "print(f'KMeans purity: {purity:.3f}')"
   ]
  },
  {
   "cell_type": "code",
   "execution_count": 22,
   "metadata": {},
   "outputs": [
    {
     "name": "stdout",
     "output_type": "stream",
     "text": [
      "Gini Index for KMeans: \n",
      " 0.1300440652978399\n"
     ]
    }
   ],
   "source": [
    "# Gini Index\n",
    "print(\"Gini Index for KMeans: \\n\", gini_index(cm))"
   ]
  },
  {
   "attachments": {},
   "cell_type": "markdown",
   "metadata": {},
   "source": [
    "### Purity Increases with high level of clusters"
   ]
  },
  {
   "cell_type": "code",
   "execution_count": 13,
   "metadata": {},
   "outputs": [
    {
     "data": {
      "text/html": [
       "<style>#sk-container-id-3 {color: black;background-color: white;}#sk-container-id-3 pre{padding: 0;}#sk-container-id-3 div.sk-toggleable {background-color: white;}#sk-container-id-3 label.sk-toggleable__label {cursor: pointer;display: block;width: 100%;margin-bottom: 0;padding: 0.3em;box-sizing: border-box;text-align: center;}#sk-container-id-3 label.sk-toggleable__label-arrow:before {content: \"▸\";float: left;margin-right: 0.25em;color: #696969;}#sk-container-id-3 label.sk-toggleable__label-arrow:hover:before {color: black;}#sk-container-id-3 div.sk-estimator:hover label.sk-toggleable__label-arrow:before {color: black;}#sk-container-id-3 div.sk-toggleable__content {max-height: 0;max-width: 0;overflow: hidden;text-align: left;background-color: #f0f8ff;}#sk-container-id-3 div.sk-toggleable__content pre {margin: 0.2em;color: black;border-radius: 0.25em;background-color: #f0f8ff;}#sk-container-id-3 input.sk-toggleable__control:checked~div.sk-toggleable__content {max-height: 200px;max-width: 100%;overflow: auto;}#sk-container-id-3 input.sk-toggleable__control:checked~label.sk-toggleable__label-arrow:before {content: \"▾\";}#sk-container-id-3 div.sk-estimator input.sk-toggleable__control:checked~label.sk-toggleable__label {background-color: #d4ebff;}#sk-container-id-3 div.sk-label input.sk-toggleable__control:checked~label.sk-toggleable__label {background-color: #d4ebff;}#sk-container-id-3 input.sk-hidden--visually {border: 0;clip: rect(1px 1px 1px 1px);clip: rect(1px, 1px, 1px, 1px);height: 1px;margin: -1px;overflow: hidden;padding: 0;position: absolute;width: 1px;}#sk-container-id-3 div.sk-estimator {font-family: monospace;background-color: #f0f8ff;border: 1px dotted black;border-radius: 0.25em;box-sizing: border-box;margin-bottom: 0.5em;}#sk-container-id-3 div.sk-estimator:hover {background-color: #d4ebff;}#sk-container-id-3 div.sk-parallel-item::after {content: \"\";width: 100%;border-bottom: 1px solid gray;flex-grow: 1;}#sk-container-id-3 div.sk-label:hover label.sk-toggleable__label {background-color: #d4ebff;}#sk-container-id-3 div.sk-serial::before {content: \"\";position: absolute;border-left: 1px solid gray;box-sizing: border-box;top: 0;bottom: 0;left: 50%;z-index: 0;}#sk-container-id-3 div.sk-serial {display: flex;flex-direction: column;align-items: center;background-color: white;padding-right: 0.2em;padding-left: 0.2em;position: relative;}#sk-container-id-3 div.sk-item {position: relative;z-index: 1;}#sk-container-id-3 div.sk-parallel {display: flex;align-items: stretch;justify-content: center;background-color: white;position: relative;}#sk-container-id-3 div.sk-item::before, #sk-container-id-3 div.sk-parallel-item::before {content: \"\";position: absolute;border-left: 1px solid gray;box-sizing: border-box;top: 0;bottom: 0;left: 50%;z-index: -1;}#sk-container-id-3 div.sk-parallel-item {display: flex;flex-direction: column;z-index: 1;position: relative;background-color: white;}#sk-container-id-3 div.sk-parallel-item:first-child::after {align-self: flex-end;width: 50%;}#sk-container-id-3 div.sk-parallel-item:last-child::after {align-self: flex-start;width: 50%;}#sk-container-id-3 div.sk-parallel-item:only-child::after {width: 0;}#sk-container-id-3 div.sk-dashed-wrapped {border: 1px dashed gray;margin: 0 0.4em 0.5em 0.4em;box-sizing: border-box;padding-bottom: 0.4em;background-color: white;}#sk-container-id-3 div.sk-label label {font-family: monospace;font-weight: bold;display: inline-block;line-height: 1.2em;}#sk-container-id-3 div.sk-label-container {text-align: center;}#sk-container-id-3 div.sk-container {/* jupyter's `normalize.less` sets `[hidden] { display: none; }` but bootstrap.min.css set `[hidden] { display: none !important; }` so we also need the `!important` here to be able to override the default hidden behavior on the sphinx rendered scikit-learn.org. See: https://github.com/scikit-learn/scikit-learn/issues/21755 */display: inline-block !important;position: relative;}#sk-container-id-3 div.sk-text-repr-fallback {display: none;}</style><div id=\"sk-container-id-3\" class=\"sk-top-container\"><div class=\"sk-text-repr-fallback\"><pre>KMeans(n_clusters=200, n_init=&#x27;auto&#x27;, random_state=0)</pre><b>In a Jupyter environment, please rerun this cell to show the HTML representation or trust the notebook. <br />On GitHub, the HTML representation is unable to render, please try loading this page with nbviewer.org.</b></div><div class=\"sk-container\" hidden><div class=\"sk-item\"><div class=\"sk-estimator sk-toggleable\"><input class=\"sk-toggleable__control sk-hidden--visually\" id=\"sk-estimator-id-3\" type=\"checkbox\" checked><label for=\"sk-estimator-id-3\" class=\"sk-toggleable__label sk-toggleable__label-arrow\">KMeans</label><div class=\"sk-toggleable__content\"><pre>KMeans(n_clusters=200, n_init=&#x27;auto&#x27;, random_state=0)</pre></div></div></div></div></div>"
      ],
      "text/plain": [
       "KMeans(n_clusters=200, n_init='auto', random_state=0)"
      ]
     },
     "execution_count": 13,
     "metadata": {},
     "output_type": "execute_result"
    }
   ],
   "source": [
    "from sklearn.cluster import KMeans\n",
    "# Run KMeans on the selected samples\n",
    "kmeans = KMeans(n_clusters=200, random_state=0, n_init = 'auto')\n",
    "kmeans.fit(X_selected)"
   ]
  },
  {
   "cell_type": "code",
   "execution_count": 14,
   "metadata": {},
   "outputs": [
    {
     "name": "stdout",
     "output_type": "stream",
     "text": [
      "Cluster Labels: \n",
      " [ 22 101 189 ...  80  74 189]\n",
      "Cluster Labels Shape: \n",
      " (30000,)\n"
     ]
    }
   ],
   "source": [
    "# Print the cluster centers and cluster labels\n",
    "print(\"Cluster Labels: \\n\", kmeans.labels_)\n",
    "print(\"Cluster Labels Shape: \\n\", kmeans.labels_.shape)"
   ]
  },
  {
   "cell_type": "code",
   "execution_count": 15,
   "metadata": {},
   "outputs": [
    {
     "name": "stdout",
     "output_type": "stream",
     "text": [
      "KMeans purity: 0.901\n"
     ]
    }
   ],
   "source": [
    "# Calculate the contingency matrix\n",
    "cm = contingency_matrix(y_selected, kmeans.labels_)\n",
    "# Calculate the purity\n",
    "purity = np.sum(np.amax(cm, axis=0)) / np.sum(cm)\n",
    "print(f'KMeans purity: {purity:.3f}')"
   ]
  },
  {
   "cell_type": "code",
   "execution_count": 12,
   "metadata": {},
   "outputs": [
    {
     "name": "stdout",
     "output_type": "stream",
     "text": [
      "Gini Index for KMeans: \n",
      " 0.0129080908160778\n"
     ]
    }
   ],
   "source": [
    "# Gini Index\n",
    "print(\"Gini Index for KMeans: \\n\", gini_index(cm))"
   ]
  },
  {
   "cell_type": "code",
   "execution_count": 25,
   "metadata": {},
   "outputs": [
    {
     "data": {
      "image/png": "[encoded data removed]",
      "text/plain": [
       "<Figure size 800x300 with 10 Axes>"
      ]
     },
     "metadata": {},
     "output_type": "display_data"
    }
   ],
   "source": [
    "# Plot the cluster centers\n",
    "fig, ax = plt.subplots(2, 5, figsize=(8, 3))\n",
    "centers = kmeans.cluster_centers_.reshape(10, 28, 28)\n",
    "for axi, center in zip(ax.flat, centers):\n",
    "    axi.set(xticks=[], yticks=[])\n",
    "    axi.imshow(center, interpolation='nearest', cmap=plt.cm.binary)\n",
    "plt.show()"
   ]
  },
  {
   "attachments": {},
   "cell_type": "markdown",
   "metadata": {},
   "source": [
    "# Clustering using DBSCAN\n",
    "\n",
    "DBSCAN - Density-Based Spatial Clustering of Applications with Noise. Finds core samples of high density and expands clusters from them. Good for data which contains clusters of similar density."
   ]
  },
  {
   "cell_type": "code",
   "execution_count": 22,
   "metadata": {},
   "outputs": [
    {
     "name": "stdout",
     "output_type": "stream",
     "text": [
      "DBSCAN purity: 0.100\n"
     ]
    }
   ],
   "source": [
    "from sklearn.cluster import DBSCAN\n",
    "# Run DBSCAN on the selected samples\n",
    "db = DBSCAN(eps=5, min_samples=5)#DBSCAN()\n",
    "db.fit(X_selected)\n",
    "\n",
    "# Calculate the contingency matrix\n",
    "cm = contingency_matrix(y_selected, db.labels_)\n",
    "\n",
    "# Calculate the purity\n",
    "purity = np.sum(np.amax(cm, axis=0)) / np.sum(cm)\n",
    "print(f'DBSCAN purity: {purity:.3f}')"
   ]
  },
  {
   "cell_type": "code",
   "execution_count": 24,
   "metadata": {},
   "outputs": [
    {
     "name": "stdout",
     "output_type": "stream",
     "text": [
      "Gini Index for DBSCAN:  0.9\n"
     ]
    }
   ],
   "source": [
    "# Gini Index\n",
    "print(\"Gini Index for DBSCAN: \", gini_index(cm))"
   ]
  },
  {
   "cell_type": "code",
   "execution_count": 16,
   "metadata": {},
   "outputs": [
    {
     "name": "stdout",
     "output_type": "stream",
     "text": [
      "DBSCAN purity: 0.100\n"
     ]
    }
   ],
   "source": [
    "from sklearn.cluster import DBSCAN\n",
    "# Run DBSCAN on the selected samples\n",
    "dbscan = DBSCAN()\n",
    "dbscan.fit(X_selected)\n",
    "\n",
    "# Calculate the contingency matrix\n",
    "cm = contingency_matrix(y_selected, dbscan.labels_)\n",
    "\n",
    "# Calculate the purity\n",
    "purity = np.sum(np.amax(cm, axis=0)) / np.sum(cm)\n",
    "print(f'DBSCAN purity: {purity:.3f}')"
   ]
  },
  {
   "cell_type": "code",
   "execution_count": 17,
   "metadata": {},
   "outputs": [
    {
     "name": "stdout",
     "output_type": "stream",
     "text": [
      "Gini Index for DBSCAN:  0.9\n"
     ]
    }
   ],
   "source": [
    "# Gini Index\n",
    "print(\"Gini Index for DBSCAN: \", gini_index(cm))"
   ]
  },
  {
   "attachments": {},
   "cell_type": "markdown",
   "metadata": {},
   "source": [
    "The reason why we are getting bad results is due to the inherit nature of DBSCAN. It is not great for our MNIST dataset because it is not a density based dataset. It is a distance based dataset. DBSCAN is good for datasets where the clusters are of similar density. In our case, the clusters are of similar distance."
   ]
  },
  {
   "attachments": {},
   "cell_type": "markdown",
   "metadata": {},
   "source": [
    "# Clustering using MeanShift"
   ]
  },
  {
   "attachments": {},
   "cell_type": "markdown",
   "metadata": {},
   "source": [
    "MeanShift has a high complexity and is very slow. It is not suitable for clustering large datasets. We will reduce the size of images in the MNIST dataset to 14x14 pixels to speed up the clustering process."
   ]
  },
  {
   "cell_type": "code",
   "execution_count": 45,
   "metadata": {},
   "outputs": [
    {
     "name": "stdout",
     "output_type": "stream",
     "text": [
      "MeanShift purity: 0.100\n"
     ]
    }
   ],
   "source": [
    "from sklearn.cluster import MeanShift\n",
    "\n",
    "# Run MeanShift on the selected samples\n",
    "meanshift = MeanShift()\n",
    "meanshift.fit(X_selected)\n",
    "\n",
    "# Calculate the contingency matrix\n",
    "cm = contingency_matrix(y_selected, meanshift.labels_)\n",
    "\n",
    "# Calculate the purity\n",
    "purity = np.sum(np.amax(cm, axis=0)) / np.sum(cm)\n",
    "print(f'MeanShift purity: {purity:.3f}')"
   ]
  },
  {
   "cell_type": "code",
   "execution_count": 16,
   "metadata": {},
   "outputs": [],
   "source": [
    "from sklearn.cluster import MeanShift\n",
    "\n",
    "# Run MeanShift on the selected samples\n",
    "meanshift = MeanShift(bandwidth=100, seeds=X_selected, bin_seeding=False)\n",
    "meanshift.fit(X_selected)\n",
    "\n",
    "# Calculate the contingency matrix\n",
    "cm = contingency_matrix(y_selected, meanshift.labels_)\n",
    "\n",
    "# Calculate the purity\n",
    "purity = np.sum(np.amax(cm, axis=0)) / np.sum(cm)\n",
    "print(f'MeanShift purity: {purity:.3f}')"
   ]
  },
  {
   "cell_type": "code",
   "execution_count": null,
   "metadata": {},
   "outputs": [
    {
     "name": "stdout",
     "output_type": "stream",
     "text": [
      "Gini index for MeanShift: \n",
      " -0.9996666666666667\n"
     ]
    }
   ],
   "source": [
    "# Gini index for MeanShift\n",
    "print(\"Gini index for MeanShift: \\n\", gini_index(cm))"
   ]
  }
 ],
 "metadata": {
  "kernelspec": {
   "display_name": "IML",
   "language": "python",
   "name": "python3"
  },
  "language_info": {
   "codemirror_mode": {
    "name": "ipython",
    "version": 3
   },
   "file_extension": ".py",
   "mimetype": "text/x-python",
   "name": "python",
   "nbconvert_exporter": "python",
   "pygments_lexer": "ipython3",
   "version": "3.9.8"
  },
  "orig_nbformat": 4
 },
 "nbformat": 4,
 "nbformat_minor": 2
}
